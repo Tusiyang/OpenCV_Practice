{
 "cells": [
  {
   "cell_type": "markdown",
   "id": "55989a80",
   "metadata": {},
   "source": [
    "### 图像轮廓\n",
    "- 在轮廓检测前必须进行二值化处理\n",
    "- cv2.findContours(img,mode,method)\n",
    "1) mode只记住最后一个RETR_TREE, 其它结果都可从中调用\n",
    "2) method即轮廓的逼近方法<br>\n",
    "CHAIN_APPROX_NONE: 输出多边形<br>\n",
    "CHAIN_APPROX_SIMPLE: 只保留终点部分\n"
   ]
  },
  {
   "cell_type": "code",
   "execution_count": 1,
   "id": "5587b070",
   "metadata": {},
   "outputs": [],
   "source": [
    "import cv2\n",
    "import numpy as np\n",
    "import matplotlib.pyplot as plt"
   ]
  },
  {
   "cell_type": "code",
   "execution_count": 30,
   "id": "9be7b027",
   "metadata": {},
   "outputs": [],
   "source": [
    "def cv_show(img, title='Image'):\n",
    "    cv2.imshow(title, img)\n",
    "    cv2.waitKey(0)\n",
    "    cv2.destroyAllWindows()"
   ]
  },
  {
   "cell_type": "code",
   "execution_count": 54,
   "id": "1f207ffe",
   "metadata": {},
   "outputs": [],
   "source": [
    "img= cv2.imread('Contours.png', cv2.IMREAD_GRAYSCALE)"
   ]
  },
  {
   "cell_type": "code",
   "execution_count": 58,
   "id": "ff0f8379",
   "metadata": {},
   "outputs": [],
   "source": [
    "img_color= cv2.imread('Contours.png')"
   ]
  },
  {
   "cell_type": "code",
   "execution_count": 14,
   "id": "069ed35c",
   "metadata": {},
   "outputs": [],
   "source": [
    "thresh, ret= cv2.threshold(img, 127, 255, cv2.THRESH_BINARY)"
   ]
  },
  {
   "cell_type": "code",
   "execution_count": 49,
   "id": "45616efc",
   "metadata": {},
   "outputs": [],
   "source": [
    "contours, hierarchy= cv2.findContours(ret, cv2.RETR_TREE, cv2.CHAIN_APPROX_NONE)"
   ]
  },
  {
   "cell_type": "code",
   "execution_count": 59,
   "id": "47720f05",
   "metadata": {},
   "outputs": [],
   "source": [
    "# -1 means draw all contours, 2 means thickness of the contour lines\n",
    "res= cv2.drawContours(img_color, contours, -1, (0, 0, 255), 2)\n",
    "cv_show(res, \"res\")"
   ]
  }
 ],
 "metadata": {
  "kernelspec": {
   "display_name": "Python 3",
   "language": "python",
   "name": "python3"
  },
  "language_info": {
   "codemirror_mode": {
    "name": "ipython",
    "version": 3
   },
   "file_extension": ".py",
   "mimetype": "text/x-python",
   "name": "python",
   "nbconvert_exporter": "python",
   "pygments_lexer": "ipython3",
   "version": "3.11.11"
  }
 },
 "nbformat": 4,
 "nbformat_minor": 5
}
