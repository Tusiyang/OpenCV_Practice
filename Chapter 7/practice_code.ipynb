{
 "cells": [
  {
   "cell_type": "markdown",
   "id": "55989a80",
   "metadata": {},
   "source": [
    "### 图像轮廓\n",
    "- 在轮廓检测前必须进行二值化处理\n",
    "- cv2.findContours(img,mode,method)\n",
    "1) mode只需记住最后一个参数RETR_TREE, 其它结果都可从中调用\n",
    "2) method即轮廓的逼近方法<br>\n",
    "CHAIN_APPROX_NONE: 输出多边形<br>\n",
    "CHAIN_APPROX_SIMPLE: 只保留终点部分\n"
   ]
  },
  {
   "cell_type": "code",
   "execution_count": 8,
   "id": "5587b070",
   "metadata": {},
   "outputs": [],
   "source": [
    "import cv2\n",
    "import numpy as np\n",
    "import matplotlib.pyplot as plt"
   ]
  },
  {
   "cell_type": "code",
   "execution_count": 149,
   "id": "9be7b027",
   "metadata": {},
   "outputs": [],
   "source": [
    "def cv_show(img, title='Image'):\n",
    "    cv2.imshow(title, img)\n",
    "    cv2.waitKey(0)\n",
    "    cv2.destroyAllWindows()"
   ]
  },
  {
   "cell_type": "code",
   "execution_count": 150,
   "id": "1f207ffe",
   "metadata": {},
   "outputs": [],
   "source": [
    "img= cv2.imread('shape.png', cv2.IMREAD_GRAYSCALE)"
   ]
  },
  {
   "cell_type": "code",
   "execution_count": 151,
   "id": "056b17a5",
   "metadata": {},
   "outputs": [],
   "source": [
    "img_color= cv2.imread('shape.png')"
   ]
  },
  {
   "cell_type": "code",
   "execution_count": 152,
   "id": "069ed35c",
   "metadata": {},
   "outputs": [],
   "source": [
    "# 二值化\n",
    "thresh, ret= cv2.threshold(img, 127, 255, cv2.THRESH_BINARY)"
   ]
  },
  {
   "cell_type": "code",
   "execution_count": 153,
   "id": "45616efc",
   "metadata": {},
   "outputs": [],
   "source": [
    "# 寻找轮廓\n",
    "contours, hierarchy= cv2.findContours(ret, cv2.RETR_TREE, cv2.CHAIN_APPROX_NONE)"
   ]
  },
  {
   "cell_type": "code",
   "execution_count": 142,
   "id": "47720f05",
   "metadata": {},
   "outputs": [],
   "source": [
    "# 画轮廓，-1 means draw all contours, 2 means thickness of the contour lines\n",
    "res= cv2.drawContours(img_color, contours, 0, (0, 0, 255), 2)\n",
    "cv_show(res, \"res\")"
   ]
  },
  {
   "cell_type": "code",
   "execution_count": 144,
   "id": "0df5b0cf",
   "metadata": {},
   "outputs": [],
   "source": [
    "# 提取轮廓特征\n",
    "cnt= contours[0]   # 选择第一个轮廓"
   ]
  },
  {
   "cell_type": "code",
   "execution_count": 145,
   "id": "ffb81c0c",
   "metadata": {},
   "outputs": [
    {
     "data": {
      "text/plain": [
       "82533.5"
      ]
     },
     "execution_count": 145,
     "metadata": {},
     "output_type": "execute_result"
    }
   ],
   "source": [
    "cv2.contourArea(cnt)  # 计算轮廓面积"
   ]
  },
  {
   "cell_type": "code",
   "execution_count": 146,
   "id": "0d287a96",
   "metadata": {},
   "outputs": [
    {
     "data": {
      "text/plain": [
       "1843.1097334623337"
      ]
     },
     "execution_count": 146,
     "metadata": {},
     "output_type": "execute_result"
    }
   ],
   "source": [
    "cv2.arcLength(cnt, True)  # 计算轮廓周长, True表示轮廓是闭合的"
   ]
  },
  {
   "cell_type": "code",
   "execution_count": null,
   "id": "c818bf6f",
   "metadata": {},
   "outputs": [],
   "source": [
    "# 轮廓近似\n",
    "epsilon= 0.01*cv2.arcLength(cnt, True) # 是否需要将直线二分的阈值, epsilon越小，则近似越精确\n",
    "approx= cv2.approxPolyDP(cnt, epsilon, True) \n",
    "draw_img= img_color.copy()\n",
    "res= cv2.drawContours(draw_img, [approx], -1, (0, 255, 0), 2)  # 绘制近似轮廓\n",
    "cv_show(res, \"approx\")"
   ]
  },
  {
   "cell_type": "code",
   "execution_count": 161,
   "id": "9fa1180c",
   "metadata": {},
   "outputs": [],
   "source": [
    "# 轮廓的外接矩形\n",
    "x, y, w, h = cv2.boundingRect(cnt)  # 获取外接矩形的坐标和宽高\n",
    "img= cv2.rectangle(img_color, (x, y), (x + w, y + h), (255, 0, 0), 2)  # 绘制外接矩形\n",
    "cv_show(img, \"boundingRect\")"
   ]
  },
  {
   "cell_type": "code",
   "execution_count": 162,
   "id": "50894afd",
   "metadata": {},
   "outputs": [],
   "source": [
    "# 轮廓的外接圆\n",
    "(x,y),radius = cv2.minEnclosingCircle(cnt)  \n",
    "center= (int(x), int(y))\n",
    "radius= int(radius)\n",
    "img= cv2.circle(img_color, center, radius, (0, 255, 255), 2)  # 绘制外接圆\n",
    "cv_show(img, \"minEnclosingCircle\")"
   ]
  },
  {
   "cell_type": "markdown",
   "id": "d6fce654",
   "metadata": {},
   "source": [
    "### 模板匹配\n",
    "#### 模板匹配类似于卷积，模板在原图像上从原点开始滑动，计算模板与原图像中被覆盖区域的差别程度，这个计算方法有6种。假设原图像是A*B，而模板是a*b大小，则输出结果的矩阵是(A-a+1)*(B-b+1)\n",
    "- TM_SQDIFF_NORMED, 正规化后的diff, 越接近于0越匹配\n",
    "- TM_CCORR_NORMED，正规化后的相关系数，越接近于1越匹配<br>\n",
    "#### matchTemplate返回的结果是各个移动框所对应的差别程度，可用cv2.minMaxLoc来解析这个结果\n",
    "#### 不适用于模板和比较图像是不同尺度的情况"
   ]
  },
  {
   "cell_type": "code",
   "execution_count": 58,
   "id": "1c698a12",
   "metadata": {},
   "outputs": [],
   "source": [
    "\n",
    "lena_face= cv2.imread('lena_face.png', cv2.IMREAD_GRAYSCALE)\n",
    "lena= cv2.imread('lenanoise.png', cv2.IMREAD_GRAYSCALE)\n",
    "h, w= lena_face.shape"
   ]
  },
  {
   "cell_type": "code",
   "execution_count": 59,
   "id": "7a3e2719",
   "metadata": {},
   "outputs": [],
   "source": [
    "res= cv2.matchTemplate(lena, lena_face, cv2.TM_SQDIFF_NORMED)"
   ]
  },
  {
   "cell_type": "code",
   "execution_count": 60,
   "id": "ee755535",
   "metadata": {},
   "outputs": [
    {
     "data": {
      "text/plain": [
       "(311, 320)"
      ]
     },
     "execution_count": 60,
     "metadata": {},
     "output_type": "execute_result"
    }
   ],
   "source": [
    "res.shape"
   ]
  },
  {
   "cell_type": "code",
   "execution_count": 61,
   "id": "f6b8949f",
   "metadata": {},
   "outputs": [],
   "source": [
    "# min_loc为移动框左上角的坐标\n",
    "min_val, max_val, min_loc, max_loc= cv2.minMaxLoc(res)"
   ]
  },
  {
   "cell_type": "code",
   "execution_count": 62,
   "id": "667f4f44",
   "metadata": {},
   "outputs": [
    {
     "name": "stdout",
     "output_type": "stream",
     "text": [
      "0.01317409798502922 (184, 198)\n"
     ]
    }
   ],
   "source": [
    "print(min_val, min_loc)"
   ]
  },
  {
   "cell_type": "code",
   "execution_count": null,
   "id": "f26e66f7",
   "metadata": {},
   "outputs": [],
   "source": [
    "top_left= min_loc \n",
    "bottm_right= (top_left[0] + w, top_left[1] + h) # 因为在tangle里面，起始点是左上角，而终点在右下角，所以是加上h"
   ]
  },
  {
   "cell_type": "code",
   "execution_count": 64,
   "id": "1017809f",
   "metadata": {},
   "outputs": [
    {
     "data": {
      "text/plain": [
       "array([[253, 254, 255, ..., 248, 249, 114],\n",
       "       [253, 253, 254, ..., 248, 249, 113],\n",
       "       [252, 252, 253, ..., 249, 249, 112],\n",
       "       ...,\n",
       "       [ 49,  50,  50, ...,  88,  95,  99],\n",
       "       [ 59,  61, 234, ...,  91,  97, 100],\n",
       "       [ 49, 233,  54, ...,  96, 100, 104]], shape=(537, 512), dtype=uint8)"
      ]
     },
     "execution_count": 64,
     "metadata": {},
     "output_type": "execute_result"
    }
   ],
   "source": [
    "cv2.rectangle(lena, min_loc, bottm_right, (0, 0, 255), 2)"
   ]
  },
  {
   "cell_type": "code",
   "execution_count": 65,
   "id": "54c34b55",
   "metadata": {},
   "outputs": [],
   "source": [
    "def cv_show(img, title='Image'):\n",
    "    cv2.imshow(title, img)\n",
    "    cv2.waitKey(0)\n",
    "    cv2.destroyAllWindows()"
   ]
  },
  {
   "cell_type": "code",
   "execution_count": 69,
   "id": "b851a218",
   "metadata": {},
   "outputs": [],
   "source": [
    "cv_show(lena, \"lena\")"
   ]
  },
  {
   "cell_type": "code",
   "execution_count": null,
   "id": "fb25a645",
   "metadata": {},
   "outputs": [
    {
     "data": {
      "text/plain": [
       "[(np.int64(2), np.int64(0)),\n",
       " (np.int64(2), np.int64(1)),\n",
       " (np.int64(3), np.int64(0)),\n",
       " (np.int64(3), np.int64(1))]"
      ]
     },
     "execution_count": 84,
     "metadata": {},
     "output_type": "execute_result"
    }
   ],
   "source": [
    "# 多个模板匹配\n",
    "array= np.array([[0, 0], [10, 10], [20, 20], [30, 30]])\n",
    "res= np.where(array> 10)  # 返回满足条件的索引\n",
    "list(zip(*res)) # *res将返回的元组中的element解放出来，zip将这些element中的value根据position不同regroup\n"
   ]
  },
  {
   "cell_type": "code",
   "execution_count": 90,
   "id": "cc6c2309",
   "metadata": {},
   "outputs": [
    {
     "data": {
      "text/plain": [
       "(array([2, 2, 3, 3]), array([0, 1, 0, 1]))"
      ]
     },
     "execution_count": 90,
     "metadata": {},
     "output_type": "execute_result"
    }
   ],
   "source": [
    "res"
   ]
  },
  {
   "cell_type": "markdown",
   "id": "a66b9c69",
   "metadata": {},
   "source": [
    "### 图像金字塔\n",
    "- 高斯金字塔\n",
    "1) 向下采样(缩小)\n",
    "1) 向上采样\n",
    "- 拉普拉斯金字塔<br>\n",
    "Li= Gi-PyrUp(PyrDown(Gi))"
   ]
  },
  {
   "cell_type": "code",
   "execution_count": 73,
   "id": "36779a9d",
   "metadata": {},
   "outputs": [],
   "source": [
    "img= cv2.imread('cat.jpg', cv2.IMREAD_GRAYSCALE)"
   ]
  },
  {
   "cell_type": "code",
   "execution_count": 74,
   "id": "4e075460",
   "metadata": {},
   "outputs": [],
   "source": [
    "cv_show(img)"
   ]
  },
  {
   "cell_type": "code",
   "execution_count": 75,
   "id": "ee07e1c0",
   "metadata": {},
   "outputs": [],
   "source": [
    "up= cv2.pyrUp(img)"
   ]
  },
  {
   "cell_type": "code",
   "execution_count": 76,
   "id": "cc1efec4",
   "metadata": {},
   "outputs": [],
   "source": [
    "cv_show(up)"
   ]
  },
  {
   "cell_type": "code",
   "execution_count": 78,
   "id": "c8a80223",
   "metadata": {},
   "outputs": [],
   "source": [
    "# 拉普拉斯金字塔\n",
    "down= cv2.pyrDown(img)\n",
    "down_up= cv2.pyrUp(down)\n",
    "l_1= img-down_up\n",
    "cv_show(l_1, \"l_1\")"
   ]
  }
 ],
 "metadata": {
  "kernelspec": {
   "display_name": "Python 3",
   "language": "python",
   "name": "python3"
  },
  "language_info": {
   "codemirror_mode": {
    "name": "ipython",
    "version": 3
   },
   "file_extension": ".py",
   "mimetype": "text/x-python",
   "name": "python",
   "nbconvert_exporter": "python",
   "pygments_lexer": "ipython3",
   "version": "3.11.11"
  }
 },
 "nbformat": 4,
 "nbformat_minor": 5
}
