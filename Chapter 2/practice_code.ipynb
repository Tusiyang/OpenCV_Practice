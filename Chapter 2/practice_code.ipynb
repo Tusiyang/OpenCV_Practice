{
 "cells": [
  {
   "cell_type": "code",
   "execution_count": 7,
   "id": "5dcb80be",
   "metadata": {},
   "outputs": [],
   "source": [
    "#%pip install opencv-python matplotlib numpy\n"
   ]
  },
  {
   "cell_type": "code",
   "execution_count": 1,
   "id": "126c856d",
   "metadata": {},
   "outputs": [],
   "source": [
    "%matplotlib inline"
   ]
  },
  {
   "cell_type": "code",
   "execution_count": 2,
   "id": "de56ba12",
   "metadata": {},
   "outputs": [],
   "source": [
    "import cv2\n",
    "import matplotlib.pyplot as plt\n",
    "import numpy as np"
   ]
  },
  {
   "cell_type": "markdown",
   "id": "1499e507",
   "metadata": {},
   "source": [
    "### 读取彩色图像"
   ]
  },
  {
   "cell_type": "code",
   "execution_count": 3,
   "id": "b2418960",
   "metadata": {},
   "outputs": [],
   "source": [
    "img= cv2.imread('cat.jpg')"
   ]
  },
  {
   "cell_type": "code",
   "execution_count": null,
   "id": "83a86cac",
   "metadata": {},
   "outputs": [
    {
     "data": {
      "text/plain": [
       "array([[[28, 20, 21],\n",
       "        [28, 20, 21],\n",
       "        [28, 20, 21],\n",
       "        ...,\n",
       "        [27, 22, 23],\n",
       "        [27, 22, 23],\n",
       "        [27, 22, 23]],\n",
       "\n",
       "       [[28, 20, 21],\n",
       "        [28, 20, 21],\n",
       "        [28, 20, 21],\n",
       "        ...,\n",
       "        [27, 22, 23],\n",
       "        [27, 22, 23],\n",
       "        [27, 22, 23]],\n",
       "\n",
       "       [[29, 21, 22],\n",
       "        [29, 21, 22],\n",
       "        [29, 21, 22],\n",
       "        ...,\n",
       "        [27, 22, 23],\n",
       "        [27, 22, 23],\n",
       "        [27, 22, 23]],\n",
       "\n",
       "       ...,\n",
       "\n",
       "       [[36, 22, 28],\n",
       "        [36, 22, 28],\n",
       "        [36, 22, 28],\n",
       "        ...,\n",
       "        [30, 22, 23],\n",
       "        [30, 22, 23],\n",
       "        [30, 22, 23]],\n",
       "\n",
       "       [[36, 22, 28],\n",
       "        [36, 22, 28],\n",
       "        [36, 22, 28],\n",
       "        ...,\n",
       "        [28, 22, 23],\n",
       "        [28, 22, 23],\n",
       "        [28, 22, 23]],\n",
       "\n",
       "       [[36, 22, 28],\n",
       "        [36, 22, 28],\n",
       "        [36, 22, 28],\n",
       "        ...,\n",
       "        [28, 22, 23],\n",
       "        [28, 22, 23],\n",
       "        [28, 22, 23]]], shape=(366, 550, 3), dtype=uint8)"
      ]
     },
     "execution_count": 4,
     "metadata": {},
     "output_type": "execute_result"
    }
   ],
   "source": [
    "img"
   ]
  },
  {
   "cell_type": "code",
   "execution_count": 9,
   "id": "da9bd12a",
   "metadata": {},
   "outputs": [
    {
     "data": {
      "text/plain": [
       "(366, 550, 3)"
      ]
     },
     "execution_count": 9,
     "metadata": {},
     "output_type": "execute_result"
    }
   ],
   "source": [
    "\"\"\"\n",
    "the image format is height x width x channels\n",
    "28, 20, 21 means values in Blue, Green, Red channels\n",
    "\"\"\"\n",
    "img.shape"
   ]
  },
  {
   "cell_type": "code",
   "execution_count": null,
   "id": "da5f9272",
   "metadata": {},
   "outputs": [],
   "source": [
    "# 显示图像，\"image\"是显示图像的窗口名\n",
    "cv2.imshow(\"image\",img)\n",
    "# 设置图像的显示时间，0表示按任意键关闭窗口\n",
    "cv2.waitKey(0)\n",
    "cv2.destroyAllWindows()"
   ]
  },
  {
   "cell_type": "code",
   "execution_count": 7,
   "id": "34a43d83",
   "metadata": {},
   "outputs": [],
   "source": [
    "# 定义一个函数来显示图像\n",
    "def cv_show(name, img):\n",
    "    cv2.imshow(name, img)\n",
    "    cv2.waitKey(0)\n",
    "    cv2.destroyAllWindows()"
   ]
  },
  {
   "cell_type": "code",
   "execution_count": 8,
   "id": "81e6a43d",
   "metadata": {},
   "outputs": [],
   "source": [
    "cv_show(\"cat\", img)"
   ]
  },
  {
   "cell_type": "markdown",
   "id": "97399164",
   "metadata": {},
   "source": [
    "### 读取灰度图像"
   ]
  },
  {
   "cell_type": "code",
   "execution_count": 10,
   "id": "d1d44d42",
   "metadata": {},
   "outputs": [
    {
     "data": {
      "text/plain": [
       "array([[21, 21, 21, ..., 23, 23, 23],\n",
       "       [21, 21, 21, ..., 23, 23, 23],\n",
       "       [22, 22, 22, ..., 23, 23, 23],\n",
       "       ...,\n",
       "       [25, 25, 25, ..., 23, 23, 23],\n",
       "       [25, 25, 25, ..., 23, 23, 23],\n",
       "       [25, 25, 25, ..., 23, 23, 23]], shape=(366, 550), dtype=uint8)"
      ]
     },
     "execution_count": 10,
     "metadata": {},
     "output_type": "execute_result"
    }
   ],
   "source": [
    "img= cv2.imread('cat.jpg', cv2.IMREAD_GRAYSCALE)\n",
    "img"
   ]
  },
  {
   "cell_type": "code",
   "execution_count": 11,
   "id": "21fd19d2",
   "metadata": {},
   "outputs": [
    {
     "data": {
      "text/plain": [
       "(366, 550)"
      ]
     },
     "execution_count": 11,
     "metadata": {},
     "output_type": "execute_result"
    }
   ],
   "source": [
    "img.shape"
   ]
  },
  {
   "cell_type": "code",
   "execution_count": 12,
   "id": "628d848f",
   "metadata": {},
   "outputs": [],
   "source": [
    "cv_show(\"cat\", img)"
   ]
  },
  {
   "cell_type": "code",
   "execution_count": 13,
   "id": "63673c73",
   "metadata": {},
   "outputs": [
    {
     "data": {
      "text/plain": [
       "True"
      ]
     },
     "execution_count": 13,
     "metadata": {},
     "output_type": "execute_result"
    }
   ],
   "source": [
    "cv2.imwrite('cat_gray.jpg', img)"
   ]
  },
  {
   "cell_type": "code",
   "execution_count": 14,
   "id": "8e5a191c",
   "metadata": {},
   "outputs": [
    {
     "data": {
      "text/plain": [
       "numpy.ndarray"
      ]
     },
     "execution_count": 14,
     "metadata": {},
     "output_type": "execute_result"
    }
   ],
   "source": [
    "type(img)"
   ]
  },
  {
   "cell_type": "code",
   "execution_count": 15,
   "id": "11b9bad4",
   "metadata": {},
   "outputs": [
    {
     "data": {
      "text/plain": [
       "201300"
      ]
     },
     "execution_count": 15,
     "metadata": {},
     "output_type": "execute_result"
    }
   ],
   "source": [
    "img.size"
   ]
  },
  {
   "cell_type": "markdown",
   "id": "9bc835af",
   "metadata": {},
   "source": [
    "### 读取视频图像"
   ]
  },
  {
   "cell_type": "code",
   "execution_count": 29,
   "id": "dbe726d2",
   "metadata": {},
   "outputs": [],
   "source": [
    "\"\"\"\n",
    "VideoCapture可以捕获摄像头，用数字来控制不同的设备，例如0,1\n",
    "如果是视频文件，直接指定好路径即可\n",
    "\"\"\"\n",
    "vc= cv2.VideoCapture(\"chaplin.mp4\")\n"
   ]
  },
  {
   "cell_type": "code",
   "execution_count": 30,
   "id": "ef423179",
   "metadata": {},
   "outputs": [],
   "source": [
    "\"\"\"\n",
    "如果打开正确，open返回True，并且返回第一帧图像到frame\n",
    "之后每进行一次cv.read则会读取下一帧图像\n",
    "\"\"\"\n",
    "if vc.isOpened():\n",
    "    open, frame= vc.read()\n",
    "else:\n",
    "    open= False"
   ]
  },
  {
   "cell_type": "code",
   "execution_count": null,
   "id": "1d7b02f7",
   "metadata": {},
   "outputs": [],
   "source": [
    "while open:\n",
    "    ret, frame = vc.read()\n",
    "    if ret is False:\n",
    "        break\n",
    "    if ret is True:\n",
    "        gray= cv2.cvtColor(frame, cv2.COLOR_BGR2GRAY)\n",
    "        cv2.imshow(\"video\", gray)\n",
    "        # 0xFF是按键的ASCII码，27是ESC键\n",
    "        if cv2.waitKey(10) & 0xFF == 27:\n",
    "            break\n",
    "vc.release()\n",
    "cv2.destroyAllWindows()"
   ]
  }
 ],
 "metadata": {
  "kernelspec": {
   "display_name": "Python 3",
   "language": "python",
   "name": "python3"
  },
  "language_info": {
   "codemirror_mode": {
    "name": "ipython",
    "version": 3
   },
   "file_extension": ".py",
   "mimetype": "text/x-python",
   "name": "python",
   "nbconvert_exporter": "python",
   "pygments_lexer": "ipython3",
   "version": "3.11.11"
  }
 },
 "nbformat": 4,
 "nbformat_minor": 5
}
