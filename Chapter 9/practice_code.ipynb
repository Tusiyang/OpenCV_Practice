{
 "cells": [
  {
   "cell_type": "code",
   "execution_count": 36,
   "id": "8ff27ea7",
   "metadata": {},
   "outputs": [],
   "source": [
    "import numpy as np\n",
    "import matplotlib.pyplot as plt\n",
    "import cv2"
   ]
  },
  {
   "cell_type": "markdown",
   "id": "af6cc684",
   "metadata": {},
   "source": [
    "### 定义函数"
   ]
  },
  {
   "cell_type": "code",
   "execution_count": 37,
   "id": "4666fc6c",
   "metadata": {},
   "outputs": [],
   "source": [
    "# 显示图像\n",
    "def cv_show(name,img):\n",
    "    cv2.imshow(name, img)\n",
    "    cv2.waitKey(0)\n",
    "    cv2.destroyAllWindows()\n",
    "\n",
    "# resize图像\n",
    "def resize(image, width= None, height= None, inter= cv2.INTER_AREA):\n",
    "    dim= None\n",
    "    (h,w)= image.shape[:2] # image.shape returns h,w\n",
    "    if width is None and height is None:\n",
    "        return image\n",
    "    if width is None:\n",
    "        r= height/float(h)\n",
    "        width= int(r*w)\n",
    "        dim= (width, height)\n",
    "    else:\n",
    "        r= width/(float(w))\n",
    "        height= int(h*r)\n",
    "        dim= (width, height)\n",
    "    resized= cv2.resize(image, dim, interpolation=inter) # but dim should be passed as w,h\n",
    "    return resized\n"
   ]
  },
  {
   "cell_type": "markdown",
   "id": "c930edf0",
   "metadata": {},
   "source": []
  },
  {
   "cell_type": "markdown",
   "id": "7e7662a8",
   "metadata": {},
   "source": [
    "### 准备数字模板"
   ]
  },
  {
   "cell_type": "code",
   "execution_count": 38,
   "id": "d28e5d88",
   "metadata": {},
   "outputs": [
    {
     "name": "stdout",
     "output_type": "stream",
     "text": [
      "10\n"
     ]
    },
    {
     "data": {
      "text/plain": [
       "<matplotlib.image.AxesImage at 0x18fb840a450>"
      ]
     },
     "execution_count": 38,
     "metadata": {},
     "output_type": "execute_result"
    },
    {
     "data": {
      "image/png": "[encoded data removed]",
      "text/plain": [
       "<Figure size 640x480 with 1 Axes>"
      ]
     },
     "metadata": {},
     "output_type": "display_data"
    }
   ],
   "source": [
    "# 读取模板\n",
    "img= cv2.imread('ocr_a_reference.png')\n",
    "cv_show(\"template\", img)\n",
    "\n",
    "# 灰度图\n",
    "ref= cv2.cvtColor(img, cv2.COLOR_BGR2GRAY)\n",
    "cv_show(\"ref\", ref)\n",
    "\n",
    "# 二值图\n",
    "ref= cv2.threshold(ref, 10, 255, cv2.THRESH_BINARY_INV)[1]\n",
    "cv_show(\"gray\", ref)\n",
    "\n",
    "# 计算轮廓\n",
    "# cv2.CHAIN_APPROX_SIMPLE使返回结果中只保留直线的起点和终点\n",
    "# hierarchy返回该contour的上一个contour，下个contour，parent contour和child contour。如无则返回-1\n",
    "contours, hierarchy= cv2.findContours(ref.copy(), cv2.RETR_EXTERNAL, cv2.CHAIN_APPROX_SIMPLE)\n",
    "cv2.drawContours(img, contours, -1, (0, 0, 255), 3)\n",
    "cv_show(\"img\", img)\n",
    "print(len(contours)) \n",
    "\n",
    "# 将轮廓排序，从左到右\n",
    "# 先将轮廓用最小的矩形包围起来, x, y, w, h\n",
    "boundingBoxes= [cv2.boundingRect(c) for c in contours]\n",
    "# 将contours和boundingBoxes给zip在一起，然后用sorted(zipped file, key)来排序，最后用zip(*)来逆zip\n",
    "contours, boundingBoxes=zip(*sorted(zip(contours, boundingBoxes), key= lambda pair: pair[1][0]))\n",
    "\n",
    "# 将矩形调整成适合的大小，并且把template连接上数字\n",
    "digits={}\n",
    "for i, c in enumerate(contours):\n",
    "    x, y, w, h= cv2.boundingRect(c) # x,y是矩形左上角的坐标，在图像处理中，往右和往下x和y会增大\n",
    "    roi= ref[y:y+h, x: x+w]  # rows are equivalent to y, columns are equivalent to x\n",
    "    roi= cv2.resize(roi, (57,88))\n",
    "    digits[i]= roi\n",
    "\n",
    "# show sample\n",
    "plt.imshow(digits[0])\n"
   ]
  },
  {
   "cell_type": "markdown",
   "id": "e7b28e6a",
   "metadata": {},
   "source": [
    "### 处理信用卡图片"
   ]
  },
  {
   "cell_type": "markdown",
   "id": "33981a8c",
   "metadata": {},
   "source": [
    "#### 为了能定位数字区域对图像进行预处理"
   ]
  },
  {
   "cell_type": "code",
   "execution_count": 39,
   "id": "61ae15e9",
   "metadata": {},
   "outputs": [],
   "source": [
    "# 初始化卷积核\n",
    "rectKernal= cv2.getStructuringElement(cv2.MORPH_RECT,(9,3))\n",
    "sqKernal= cv2.getStructuringElement(cv2.MORPH_RECT,(5,5))"
   ]
  },
  {
   "cell_type": "code",
   "execution_count": 40,
   "id": "2bb13d51",
   "metadata": {},
   "outputs": [],
   "source": [
    "# 读取信用卡图像\n",
    "image= cv2.imread(\"images/credit_card_01.png\")\n",
    "cv_show(\"image\", image)\n",
    "\n",
    "# resize image并且灰度化\n",
    "image= resize(image, width= 300)\n",
    "gray= cv2.cvtColor(image, cv2.COLOR_BGR2GRAY)\n",
    "cv_show(\"gray\", gray)"
   ]
  },
  {
   "cell_type": "code",
   "execution_count": 41,
   "id": "fc8791ca",
   "metadata": {},
   "outputs": [],
   "source": [
    "# tophat操作，突出更明亮的区域\n",
    "# blackhat操作，突出比较暗的区域\n",
    "tophat= cv2.morphologyEx(gray, cv2.MORPH_TOPHAT, rectKernal)\n",
    "cv_show(\"tophat\", tophat)"
   ]
  },
  {
   "cell_type": "code",
   "execution_count": 42,
   "id": "4f87cae2",
   "metadata": {},
   "outputs": [],
   "source": [
    "# 用sobel算子来找出边界, ddepth表示输出图像的精度，由于sobel计算梯度可能导致结果为负，因而需要制定输出图像精度\n",
    "gradx= cv2.Sobel(tophat, ddepth= cv2.CV_32F, dx=1, dy=0, ksize=3)\n",
    "gradx= np.absolute(gradx)\n",
    "minVal, maxVal= np.min(gradx), np.max(gradx)\n",
    "gradx= (gradx-minVal)/(maxVal- minVal)*255\n",
    "gradx= gradx.astype(\"uint8\") # uint8是非负数的8位数，其范围从0到255\n",
    "cv_show(\"gradx\", gradx)"
   ]
  },
  {
   "cell_type": "code",
   "execution_count": 43,
   "id": "5180b25d",
   "metadata": {},
   "outputs": [],
   "source": [
    "# 通过闭操作将数字连在一起\n",
    "gradx= cv2.morphologyEx(gradx, cv2.MORPH_CLOSE, rectKernal)\n",
    "cv_show(\"gradx\",gradx)"
   ]
  },
  {
   "cell_type": "code",
   "execution_count": 44,
   "id": "a8dc6d4c",
   "metadata": {},
   "outputs": [],
   "source": [
    "# Thresh_otsu会自动寻找合适的阈值，适合双峰，需要把阈值参数设置为0\n",
    "_, thresh = cv2.threshold(gradx, 0, 255, cv2.THRESH_BINARY + cv2.THRESH_OTSU)\n",
    "cv_show('thresh',thresh)"
   ]
  },
  {
   "cell_type": "code",
   "execution_count": 45,
   "id": "736e040f",
   "metadata": {},
   "outputs": [],
   "source": [
    "# 再来一个闭操作\n",
    "thresh= cv2.morphologyEx(thresh, cv2.MORPH_CLOSE, sqKernal)\n",
    "cv_show('thresh',thresh)"
   ]
  },
  {
   "cell_type": "markdown",
   "id": "59f9066c",
   "metadata": {},
   "source": [
    "#### 定位数字区域"
   ]
  },
  {
   "cell_type": "code",
   "execution_count": 46,
   "id": "56a7784f",
   "metadata": {},
   "outputs": [],
   "source": [
    "# 计算轮廓\n",
    "contours, hierarchy= cv2.findContours(thresh.copy(), cv2.RETR_EXTERNAL, cv2.CHAIN_APPROX_SIMPLE)\n",
    "cur_img= image.copy()\n",
    "cv2.drawContours(cur_img, contours, -1, (0,0,255), 3)\n",
    "cv_show(\"img\", cur_img)"
   ]
  },
  {
   "cell_type": "code",
   "execution_count": 47,
   "id": "4525bd30",
   "metadata": {},
   "outputs": [],
   "source": [
    "locs=[]\n",
    "for i,c in enumerate(contours):\n",
    "    # 计算矩形\n",
    "    x,y,w,h= cv2.boundingRect(c)\n",
    "    ar= w/float(h)\n",
    "\n",
    "    #根据数字区块的长宽比来选择目标区域\n",
    "    if ar> 2.5 and ar< 4:\n",
    "        if (w> 40 and w< 55) and (h>10 and h<20):\n",
    "            locs.append((x,y,w,h))\n",
    "\n",
    "# 将符合的轮廓从左到又排序\n",
    "locs= sorted( locs, key= lambda x: x[0])"
   ]
  },
  {
   "cell_type": "code",
   "execution_count": 48,
   "id": "9eb27c62",
   "metadata": {},
   "outputs": [
    {
     "name": "stdout",
     "output_type": "stream",
     "text": [
      "9010\n"
     ]
    }
   ],
   "source": [
    "# 遍历每一个轮廓中的数字和模板进行匹配，并且记录\n",
    "\n",
    "for (i, (gx,gy,gw,gh)) in enumerate(locs):\n",
    "    \n",
    "    groupOutput=[]\n",
    "\n",
    "    # 选取每个数组的范围\n",
    "    group= gray[gy-5: gy+ gh+5, gx-5: gx+ gw+5]\n",
    "\n",
    "    # 将图像二值化\n",
    "    _, group= cv2.threshold(group, 0, 255, cv2.THRESH_BINARY + cv2.THRESH_OTSU)\n",
    "\n",
    "    # 进行轮廓和外接矩形计算，并且进行从左到右的排序\n",
    "    contours, hierarchy= cv2.findContours(group.copy(), cv2.RETR_EXTERNAL, cv2.CHAIN_APPROX_SIMPLE)\n",
    "    boundingBoxes= [cv2.boundingRect(c) for c in contours]\n",
    "    contours, boundingBoxes=zip(*sorted(zip(contours, boundingBoxes), key= lambda pair: pair[1][0]))\n",
    "\n",
    "    for i, (x,y,w,h) in enumerate(boundingBoxes):\n",
    "\n",
    "        roi= group[y: y+h, x: x+w]\n",
    "        roi= cv2.resize(roi, (57,88))\n",
    "        scores=[]\n",
    "        for digit, digitROI in digits.items():\n",
    "            result= cv2.matchTemplate(roi, digitROI,cv2.TM_CCOEFF)\n",
    "            scores.append(result[0][0])\n",
    "        groupOutput.append(str(np.argmax(scores)))\n",
    "\n",
    "        cv2.rectangle(image, (gx - 5, gy - 5),(gx + gw + 5, gy + gh + 5), (0, 0, 255), 1)\n",
    "        cv2.putText(image, \"\".join(groupOutput), (gx-10,  gy - 15),cv2.FONT_HERSHEY_SIMPLEX, 0.65, (0, 0, 255), 2)\n",
    "\n",
    "print(\"\".join(groupOutput))\n",
    "        \n"
   ]
  },
  {
   "cell_type": "code",
   "execution_count": 50,
   "id": "e1640f72",
   "metadata": {},
   "outputs": [],
   "source": [
    "cv_show(\"\",image)"
   ]
  }
 ],
 "metadata": {
  "kernelspec": {
   "display_name": "Python 3",
   "language": "python",
   "name": "python3"
  },
  "language_info": {
   "codemirror_mode": {
    "name": "ipython",
    "version": 3
   },
   "file_extension": ".py",
   "mimetype": "text/x-python",
   "name": "python",
   "nbconvert_exporter": "python",
   "pygments_lexer": "ipython3",
   "version": "3.11.11"
  }
 },
 "nbformat": 4,
 "nbformat_minor": 5
}
