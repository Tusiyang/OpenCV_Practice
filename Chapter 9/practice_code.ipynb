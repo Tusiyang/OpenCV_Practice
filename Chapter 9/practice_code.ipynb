{
 "cells": [
  {
   "cell_type": "code",
   "execution_count": 2,
   "id": "8ff27ea7",
   "metadata": {},
   "outputs": [],
   "source": [
    "import numpy as np\n",
    "import matplotlib.pyplot as plt\n",
    "import cv2"
   ]
  },
  {
   "cell_type": "markdown",
   "id": "af6cc684",
   "metadata": {},
   "source": [
    "### 定义函数"
   ]
  },
  {
   "cell_type": "code",
   "execution_count": 83,
   "id": "4666fc6c",
   "metadata": {},
   "outputs": [],
   "source": [
    "# 显示图像\n",
    "def cv_show(name,img):\n",
    "    cv2.imshow(name, img)\n",
    "    cv2.waitKey(0)\n",
    "    cv2.destroyAllWindows()"
   ]
  },
  {
   "cell_type": "markdown",
   "id": "7e7662a8",
   "metadata": {},
   "source": [
    "### 准备数字模板"
   ]
  },
  {
   "cell_type": "code",
   "execution_count": null,
   "id": "d28e5d88",
   "metadata": {},
   "outputs": [
    {
     "name": "stdout",
     "output_type": "stream",
     "text": [
      "10\n"
     ]
    }
   ],
   "source": [
    "# 读取模板\n",
    "img= cv2.imread('ocr_a_reference.png')\n",
    "cv_show(\"template\", img)\n",
    "\n",
    "# 灰度图\n",
    "ref= cv2.cvtColor(img, cv2.COLOR_BGR2GRAY)\n",
    "cv_show(\"ref\", ref)\n",
    "\n",
    "# 二值图\n",
    "ref= cv2.threshold(ref, 10, 255, cv2.THRESH_BINARY_INV)[1]\n",
    "cv_show(\"gray\", ref)\n",
    "\n",
    "# 计算轮廓\n",
    "# cv2.CHAIN_APPROX_SIMPLE使返回结果中只保留直线的起点和终点\n",
    "# hierarchy返回该contour的上一个contour，下个contour，parent contour和child contour。如无则返回-1\n",
    "contours, hierarchy= cv2.findContours(ref.copy(), cv2.RETR_EXTERNAL, cv2.CHAIN_APPROX_SIMPLE)\n",
    "cv2.drawContours(img, contours, -1, (0, 0, 255), 3)\n",
    "cv_show(\"img\", img)\n",
    "print(len(contours)) \n",
    "\n",
    "# 将轮廓排序，从左到右\n",
    "# 先将轮廓用最小的矩形包围起来, x, y, w, h\n",
    "boundingBoxes= [cv2.boundingRect(c) for c in contours]\n",
    "# 将contours和boundingBoxes给zip在一起，然后用sorted(zipped file, key)来排序，最后用zip(*)来逆zip\n",
    "contours, boundingBoxes=zip(*sorted(zip(contours, boundingBoxes), key= lambda pair: pair[1][0]))\n",
    "\n",
    "# 将矩形调整成适合的大小，并且把template连接上数字\n",
    "digits={}\n",
    "for i, c in enumerate(contours):\n",
    "    x, y, w, h= cv2.boundingRect(c) # x,y是矩形左上角的坐标，在图像处理中，往右和往下x和y会增大\n",
    "    roi= ref[y:y+h, x: x+w]  # rows are equivalent to y, columns are equivalent to x\n",
    "    roi= cv2.resize(roi, (57,88))\n",
    "    digits[i]= roi\n",
    "\n",
    "# show sample\n",
    "plt.imshow(digits[0])\n"
   ]
  },
  {
   "cell_type": "markdown",
   "id": "e7b28e6a",
   "metadata": {},
   "source": []
  }
 ],
 "metadata": {
  "kernelspec": {
   "display_name": "Python 3",
   "language": "python",
   "name": "python3"
  },
  "language_info": {
   "codemirror_mode": {
    "name": "ipython",
    "version": 3
   },
   "file_extension": ".py",
   "mimetype": "text/x-python",
   "name": "python",
   "nbconvert_exporter": "python",
   "pygments_lexer": "ipython3",
   "version": "3.12.0"
  }
 },
 "nbformat": 4,
 "nbformat_minor": 5
}
